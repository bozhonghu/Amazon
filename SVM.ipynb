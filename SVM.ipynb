{
 "cells": [
  {
   "cell_type": "code",
   "execution_count": 1,
   "metadata": {},
   "outputs": [],
   "source": [
    "import numpy as np\n",
    "\n",
    "from time import time\n",
    "from scipy.stats import randint as sp_randint\n",
    "\n",
    "from sklearn.model_selection import GridSearchCV\n",
    "from sklearn.model_selection import RandomizedSearchCV\n",
    "from sklearn.datasets import load_digits\n",
    "from sklearn.ensemble import RandomForestClassifier\n",
    "from sklearn.svm import SVC"
   ]
  },
  {
   "cell_type": "code",
   "execution_count": 2,
   "metadata": {},
   "outputs": [],
   "source": [
    "# Seed the random number generator:\n",
    "np.random.seed(1)\n",
    "\n",
    "def load_data(filename, skiprows = 1):\n",
    "    \"\"\"\n",
    "    Function loads data stored in the file filename and returns it as a numpy ndarray.\n",
    "    \n",
    "    Inputs:\n",
    "        filename: given as a string.\n",
    "        \n",
    "    Outputs:\n",
    "        Data contained in the file, returned as a numpy ndarray\n",
    "    \"\"\"\n",
    "    return np.loadtxt(filename, skiprows=skiprows, delimiter=' ')"
   ]
  },
  {
   "cell_type": "code",
   "execution_count": 3,
   "metadata": {},
   "outputs": [],
   "source": [
    "X = load_data('training_data.txt')\n",
    "y = X[:, 0]\n",
    "X = X[:, 1:]"
   ]
  },
  {
   "cell_type": "code",
   "execution_count": null,
   "metadata": {},
   "outputs": [],
   "source": [
    "# Utility function to report best scores\n",
    "def report(results, n_top=3):\n",
    "    for i in range(1, n_top + 1):\n",
    "        candidates = np.flatnonzero(results['rank_test_score'] == i)\n",
    "        for candidate in candidates:\n",
    "            print(\"Model with rank: {0}\".format(i))\n",
    "            print(\"Mean validation score: {0:.3f} (std: {1:.3f})\".format(\n",
    "                  results['mean_test_score'][candidate],\n",
    "                  results['std_test_score'][candidate]))\n",
    "            print(\"Parameters: {0}\".format(results['params'][candidate]))\n",
    "            print(\"\")"
   ]
  },
  {
   "cell_type": "code",
   "execution_count": null,
   "metadata": {},
   "outputs": [
    {
     "name": "stdout",
     "output_type": "stream",
     "text": [
      "Fitting 3 folds for each of 12 candidates, totalling 36 fits\n",
      "[CV] kernel=rbf, C=1, gamma=0.001 ....................................\n",
      "[CV]  kernel=rbf, C=1, gamma=0.001, score=0.8377081145942703, total= 3.8min\n",
      "[CV] kernel=rbf, C=1, gamma=0.001 ....................................\n"
     ]
    },
    {
     "name": "stderr",
     "output_type": "stream",
     "text": [
      "[Parallel(n_jobs=1)]: Done   1 out of   1 | elapsed:  6.2min remaining:    0.0s\n"
     ]
    },
    {
     "name": "stdout",
     "output_type": "stream",
     "text": [
      "[CV]  kernel=rbf, C=1, gamma=0.001, score=0.8203089845507725, total= 3.9min\n",
      "[CV] kernel=rbf, C=1, gamma=0.001 ....................................\n"
     ]
    },
    {
     "name": "stderr",
     "output_type": "stream",
     "text": [
      "[Parallel(n_jobs=1)]: Done   2 out of   2 | elapsed: 12.5min remaining:    0.0s\n"
     ]
    },
    {
     "name": "stdout",
     "output_type": "stream",
     "text": [
      "[CV]  kernel=rbf, C=1, gamma=0.001, score=0.828982898289829, total= 4.0min\n",
      "[CV] kernel=rbf, C=1, gamma=0.0001 ...................................\n"
     ]
    },
    {
     "name": "stderr",
     "output_type": "stream",
     "text": [
      "[Parallel(n_jobs=1)]: Done   3 out of   3 | elapsed: 18.9min remaining:    0.0s\n"
     ]
    },
    {
     "name": "stdout",
     "output_type": "stream",
     "text": [
      "[CV]  kernel=rbf, C=1, gamma=0.0001, score=0.7234138293085346, total= 5.4min\n",
      "[CV] kernel=rbf, C=1, gamma=0.0001 ...................................\n"
     ]
    },
    {
     "name": "stderr",
     "output_type": "stream",
     "text": [
      "[Parallel(n_jobs=1)]: Done   4 out of   4 | elapsed: 27.6min remaining:    0.0s\n"
     ]
    },
    {
     "name": "stdout",
     "output_type": "stream",
     "text": [
      "[CV]  kernel=rbf, C=1, gamma=0.0001, score=0.7195140242987851, total= 5.5min\n",
      "[CV] kernel=rbf, C=1, gamma=0.0001 ...................................\n"
     ]
    },
    {
     "name": "stderr",
     "output_type": "stream",
     "text": [
      "[Parallel(n_jobs=1)]: Done   5 out of   5 | elapsed: 37.1min remaining:    0.0s\n"
     ]
    },
    {
     "name": "stdout",
     "output_type": "stream",
     "text": [
      "[CV]  kernel=rbf, C=1, gamma=0.0001, score=0.7145214521452146, total= 5.8min\n",
      "[CV] kernel=rbf, C=10, gamma=0.001 ...................................\n"
     ]
    },
    {
     "name": "stderr",
     "output_type": "stream",
     "text": [
      "[Parallel(n_jobs=1)]: Done   6 out of   6 | elapsed: 46.4min remaining:    0.0s\n"
     ]
    },
    {
     "name": "stdout",
     "output_type": "stream",
     "text": [
      "[CV]  kernel=rbf, C=10, gamma=0.001, score=0.848357582120894, total= 3.1min\n",
      "[CV] kernel=rbf, C=10, gamma=0.001 ...................................\n"
     ]
    },
    {
     "name": "stderr",
     "output_type": "stream",
     "text": [
      "[Parallel(n_jobs=1)]: Done   7 out of   7 | elapsed: 51.3min remaining:    0.0s\n"
     ]
    },
    {
     "name": "stdout",
     "output_type": "stream",
     "text": [
      "[CV]  kernel=rbf, C=10, gamma=0.001, score=0.84040797960102, total= 2.9min\n",
      "[CV] kernel=rbf, C=10, gamma=0.001 ...................................\n"
     ]
    },
    {
     "name": "stderr",
     "output_type": "stream",
     "text": [
      "[Parallel(n_jobs=1)]: Done   8 out of   8 | elapsed: 55.8min remaining:    0.0s\n"
     ]
    },
    {
     "name": "stdout",
     "output_type": "stream",
     "text": [
      "[CV]  kernel=rbf, C=10, gamma=0.001, score=0.8484848484848485, total= 2.8min\n",
      "[CV] kernel=rbf, C=10, gamma=0.0001 ..................................\n"
     ]
    },
    {
     "name": "stderr",
     "output_type": "stream",
     "text": [
      "[Parallel(n_jobs=1)]: Done   9 out of   9 | elapsed: 60.3min remaining:    0.0s\n"
     ]
    },
    {
     "name": "stdout",
     "output_type": "stream",
     "text": [
      "[CV]  kernel=rbf, C=10, gamma=0.0001, score=0.8393580320983951, total= 3.9min\n",
      "[CV] kernel=rbf, C=10, gamma=0.0001 ..................................\n",
      "[CV]  kernel=rbf, C=10, gamma=0.0001, score=0.8236088195590221, total=11.2min\n",
      "[CV] kernel=rbf, C=10, gamma=0.0001 ..................................\n",
      "[CV]  kernel=rbf, C=10, gamma=0.0001, score=0.8294329432943295, total= 3.6min\n",
      "[CV] kernel=rbf, C=100, gamma=0.001 ..................................\n",
      "[CV]  kernel=rbf, C=100, gamma=0.001, score=0.847907604619769, total= 2.7min\n",
      "[CV] kernel=rbf, C=100, gamma=0.001 ..................................\n",
      "[CV]  kernel=rbf, C=100, gamma=0.001, score=0.839658017099145, total= 2.6min\n",
      "[CV] kernel=rbf, C=100, gamma=0.001 ..................................\n",
      "[CV]  kernel=rbf, C=100, gamma=0.001, score=0.848034803480348, total= 2.7min\n",
      "[CV] kernel=rbf, C=100, gamma=0.0001 .................................\n",
      "[CV]  kernel=rbf, C=100, gamma=0.0001, score=0.8467076646167692, total= 2.5min\n",
      "[CV] kernel=rbf, C=100, gamma=0.0001 .................................\n",
      "[CV]  kernel=rbf, C=100, gamma=0.0001, score=0.8392080395980202, total= 2.4min\n",
      "[CV] kernel=rbf, C=100, gamma=0.0001 .................................\n",
      "[CV]  kernel=rbf, C=100, gamma=0.0001, score=0.8478847884788479, total= 2.5min\n",
      "[CV] kernel=rbf, C=1000, gamma=0.001 .................................\n",
      "[CV]  kernel=rbf, C=1000, gamma=0.001, score=0.8360581970901455, total= 5.2min\n",
      "[CV] kernel=rbf, C=1000, gamma=0.001 .................................\n",
      "[CV]  kernel=rbf, C=1000, gamma=0.001, score=0.8324583770811459, total= 4.6min\n",
      "[CV] kernel=rbf, C=1000, gamma=0.001 .................................\n",
      "[CV]  kernel=rbf, C=1000, gamma=0.001, score=0.8325832583258326, total= 5.0min\n",
      "[CV] kernel=rbf, C=1000, gamma=0.0001 ................................\n",
      "[CV]  kernel=rbf, C=1000, gamma=0.0001, score=0.8464076796160191, total= 3.0min\n",
      "[CV] kernel=rbf, C=1000, gamma=0.0001 ................................\n",
      "[CV]  kernel=rbf, C=1000, gamma=0.0001, score=0.8387580620968952, total= 2.6min\n",
      "[CV] kernel=rbf, C=1000, gamma=0.0001 ................................\n",
      "[CV]  kernel=rbf, C=1000, gamma=0.0001, score=0.8462346234623462, total= 2.6min\n",
      "[CV] kernel=linear, C=1 ..............................................\n",
      "[CV] ..... kernel=linear, C=1, score=0.8407079646017699, total= 4.6min\n",
      "[CV] kernel=linear, C=1 ..............................................\n",
      "[CV] ..... kernel=linear, C=1, score=0.8336583170841458, total= 4.3min\n",
      "[CV] kernel=linear, C=1 ..............................................\n",
      "[CV] ..... kernel=linear, C=1, score=0.8472847284728473, total= 4.5min\n",
      "[CV] kernel=linear, C=10 .............................................\n",
      "[CV] .... kernel=linear, C=10, score=0.8392080395980202, total=26.5min\n",
      "[CV] kernel=linear, C=10 .............................................\n",
      "[CV] .... kernel=linear, C=10, score=0.8312584370781461, total=24.2min\n",
      "[CV] kernel=linear, C=10 .............................................\n",
      "[CV] .... kernel=linear, C=10, score=0.8433843384338434, total=24.8min\n",
      "[CV] kernel=linear, C=100 ............................................\n",
      "[CV] .. kernel=linear, C=100, score=0.8383080845957702, total=300.7min\n",
      "[CV] kernel=linear, C=100 ............................................\n"
     ]
    }
   ],
   "source": [
    "clf = SVC()\n",
    "param_grid = [{'kernel': ['rbf'], 'gamma': [1e-3, 1e-4],\n",
    "                     'C': [1, 10, 100, 1000]},\n",
    "                    {'kernel': ['linear'], 'C': [1, 10, 100, 1000]}]\n",
    "\n",
    "# run grid search\n",
    "grid_search = GridSearchCV(clf, param_grid=param_grid, verbose=10)\n",
    "start = time()\n",
    "grid_search.fit(X, y)\n",
    "\n",
    "print(\"GridSearchCV took %.2f seconds for %d candidate parameter settings.\"\n",
    "      % (time() - start, len(grid_search.cv_results_['params'])))\n",
    "report(grid_search.cv_results_)"
   ]
  },
  {
   "cell_type": "code",
   "execution_count": null,
   "metadata": {},
   "outputs": [],
   "source": []
  },
  {
   "cell_type": "code",
   "execution_count": null,
   "metadata": {},
   "outputs": [],
   "source": []
  },
  {
   "cell_type": "code",
   "execution_count": null,
   "metadata": {},
   "outputs": [],
   "source": [
    "print('hi')"
   ]
  },
  {
   "cell_type": "code",
   "execution_count": null,
   "metadata": {},
   "outputs": [],
   "source": [
    "print(\"GridSearchCV took %.2f seconds for %d candidate parameter settings.\"\n",
    "      % (time() - start, len(grid_search.cv_results_['params'])))\n",
    "report(grid_search.cv_results_)"
   ]
  }
 ],
 "metadata": {
  "kernelspec": {
   "display_name": "Python 3",
   "language": "python",
   "name": "python3"
  },
  "language_info": {
   "codemirror_mode": {
    "name": "ipython",
    "version": 3
   },
   "file_extension": ".py",
   "mimetype": "text/x-python",
   "name": "python",
   "nbconvert_exporter": "python",
   "pygments_lexer": "ipython3",
   "version": "3.5.2"
  }
 },
 "nbformat": 4,
 "nbformat_minor": 2
}
